{
 "metadata": {
  "kernelspec": {
   "codemirror_mode": "r",
   "display_name": "R",
   "language": "R",
   "name": "ir"
  },
  "name": "",
  "signature": "sha256:0dd4baf579f3a5d55389ca14864e71d41b6d307994601c910416fbcbfbd53d63"
 },
 "nbformat": 3,
 "nbformat_minor": 0,
 "worksheets": [
  {
   "cells": [
    {
     "cell_type": "markdown",
     "metadata": {
      "slideshow": {
       "slide_type": "slide"
      }
     },
     "source": [
      "#Welcome to STAT 579"
     ]
    },
    {
     "cell_type": "markdown",
     "metadata": {
      "slideshow": {
       "slide_type": "slide"
      }
     },
     "source": [
      "## Before we get started...\n",
      "\n",
      "- Course has three sections:\n",
      "    - B (Tuesday, Graduate students from outside statistics)\n",
      "    - A (Thursday, Statistics graduate students \n",
      "    - XW (Online section)\n",
      "- Time: 12:10 - 2:00pm\n",
      "- Intros"
     ]
    },
    {
     "cell_type": "markdown",
     "metadata": {
      "slideshow": {
       "slide_type": "slide"
      }
     },
     "source": [
      "**Course Website**: http://www.public.iastate.edu/~hofmann/stat579\n",
      "\n",
      "**E-mail**: hofmann@iastate.edu"
     ]
    },
    {
     "cell_type": "markdown",
     "metadata": {
      "slideshow": {
       "slide_type": "slide"
      }
     },
     "source": [
      "## Outline\n",
      "\n",
      "- Introduction\n",
      "- Objectives, software, modules\n",
      "- Assessment/Grades\n",
      "- What do you already know?\n",
      "- What are you interested in?\n",
      "- Getting started"
     ]
    },
    {
     "cell_type": "markdown",
     "metadata": {
      "slideshow": {
       "slide_type": "slide"
      }
     },
     "source": [
      "## \"Tall-order\" Objective\n",
      "\n",
      "Become computationally proficient to do statistical data analysis"
     ]
    },
    {
     "cell_type": "markdown",
     "metadata": {
      "slideshow": {
       "slide_type": "slide"
      }
     },
     "source": [
      "## Objectives\n",
      "\n",
      "- Learn how to deal with complex, messy, real data\n",
      "- Use graphics to explore and understand data\n",
      "- Gain familiarity with basic data collection, storage, and manipulation\n",
      "- Fluently reshape data into the most convenient form for analysis or reporting\n",
      "- Automate cleaning and analysis"
     ]
    },
    {
     "cell_type": "markdown",
     "metadata": {
      "slideshow": {
       "slide_type": "slide"
      }
     },
     "source": [
      "## Textbook\n",
      "\n",
      "- \"Data Technologies\" by Paul Murrell, available as pdf under Creative Commons License at http://www.stat.auckland.ac.nz/~paul/ItDT/\n",
      "- Recommended: \"ggplot2\" by Hadley Wickham (email me for the pdf or use Springer link for use R! series"
     ]
    },
    {
     "cell_type": "markdown",
     "metadata": {
      "slideshow": {
       "slide_type": "slide"
      }
     },
     "source": [
      "## Setup of Class\n",
      "\n",
      "Learn about **Concepts** of Statistical Computing, practice **Skills**\n",
      "\n",
      "About 2:1 split of class time in teaching:practice\n",
      "\n",
      "Software: R"
     ]
    },
    {
     "cell_type": "markdown",
     "metadata": {
      "slideshow": {
       "slide_type": "slide"
      }
     },
     "source": [
      "## Assessment\n",
      "\n",
      "- A short homework every week\n",
      "- Two midterm exams\n",
      "- Final (team) project & presentation\n",
      "- 20% homework, 40% midterms, 15% in-class team activities, 25% final project\n",
      "- I will publish the best answers on the class website anonymously, if that's not ok, please note that on your assignment"
     ]
    },
    {
     "cell_type": "markdown",
     "metadata": {
      "slideshow": {
       "slide_type": "slide"
      }
     },
     "source": [
      "## Homework\n",
      "\n",
      "- One every week\n",
      "- 2-3 hours\n",
      "- Revise what we covered, plus synthesize some new information"
     ]
    },
    {
     "cell_type": "markdown",
     "metadata": {
      "slideshow": {
       "slide_type": "slide"
      }
     },
     "source": [
      "## Team-based learning\n",
      "\n",
      "- We will have three sessions, where you will be working in groups on a small lab project and submit a report/product by the end of the class\n",
      "- Each of these reports will be graded and a team-based grade will be assigned (each worth 5% of the overall grade)."
     ]
    },
    {
     "cell_type": "markdown",
     "metadata": {
      "slideshow": {
       "slide_type": "slide"
      }
     },
     "source": [
      "## Final Project\n",
      "\n",
      "- 1 bigger project (multiple due dates)\n",
      "- Will be open eneded, and will involve a substantial write up (10+ pages)\n",
      "- Work in a team (3-4 members)\n",
      "- Talk to each other! Find a group!"
     ]
    },
    {
     "cell_type": "markdown",
     "metadata": {
      "slideshow": {
       "slide_type": "slide"
      }
     },
     "source": [
      "## Disability and sickness\n",
      "\n",
      "- Make sure to let me know (in advance)\n",
      "- Keep on top of the weekly homework or you will get swamped!"
     ]
    },
    {
     "cell_type": "markdown",
     "metadata": {
      "slideshow": {
       "slide_type": "slide"
      }
     },
     "source": [
      "## Lectures\n",
      "\n",
      "- Electronic copy of the slides will be available on the website\n",
      "- But you'll need to take your own notes!\n",
      "    - If you really want complete notes, organize a roster with others in the class\n",
      "- Don't goof off on the computers!\n",
      "- If you're bored, complain!"
     ]
    },
    {
     "cell_type": "markdown",
     "metadata": {
      "slideshow": {
       "slide_type": "slide"
      }
     },
     "source": [
      "## What do you know already?\n",
      "\n",
      "- Excel? JMP?\n",
      "- A programming language? CS course?\n",
      "- R? SAS?\n",
      "- Database theory? Do you know what third normal form is?\n",
      "- apply?\n",
      "- Have you used a text editor?"
     ]
    },
    {
     "cell_type": "markdown",
     "metadata": {
      "slideshow": {
       "slide_type": "slide"
      }
     },
     "source": [
      "## What is this class about?\n",
      "\n",
      "- Very Data Centric\n",
      "- I want to know about topics you're interested in\n",
      "- Go to Wufoo Site to let me know your favorites and make suggestions:\n",
      "http://heike.wufoo.com/forms/topics-of-interest/"
     ]
    },
    {
     "cell_type": "markdown",
     "metadata": {
      "slideshow": {
       "slide_type": "slide"
      }
     },
     "source": [
      "- Sports (e.g. Baseball salaries and performance)\n",
      "- Crime data (incl. type, time, place, demographics, etc.)\n",
      "- Health (e.g. fitness statistics, disease rates, health care)\n",
      "- Movies (e.g. ratings/box office revenues from IMDB)\n",
      "- Climate/Weather Data\n",
      "- Travel data (e.g. US flights)\n",
      "- National or Global issues (e.g. world poverty, carbon footprint, ...)\n",
      "- Anything else you can think of?"
     ]
    },
    {
     "cell_type": "markdown",
     "metadata": {
      "slideshow": {
       "slide_type": "slide"
      }
     },
     "source": [
      "## Dataset today\n",
      "\n",
      "Tipping behavior in restaurants"
     ]
    },
    {
     "cell_type": "markdown",
     "metadata": {
      "slideshow": {
       "slide_type": "slide"
      }
     },
     "source": [
      "## Tipping in Restaurants\n",
      "\n",
      "Food server's tips in restaurants may be influenced by many factors including the nature of the restaurant, size of the party, table locations in the restaurant, ... To make appropriate assignments (which tables the food server waits on) for the food servers, restaurant managers need to know what these factors are. In one restaurant, a food server recorded the following data on all customers they had served during a interval of two and a half months in early 1990, resulting in observations on 244 dining parties."
     ]
    },
    {
     "cell_type": "code",
     "collapsed": false,
     "input": [
      "help(tips, package = \"reshape2\")"
     ],
     "language": "python",
     "metadata": {
      "slideshow": {
       "slide_type": "fragment"
      }
     },
     "outputs": [
      {
       "metadata": {},
       "output_type": "pyout",
       "prompt_number": 1,
       "text": []
      }
     ],
     "prompt_number": 1
    },
    {
     "cell_type": "markdown",
     "metadata": {
      "slideshow": {
       "slide_type": "slide"
      }
     },
     "source": [
      "## Primary Question\n",
      "\n",
      "What affects tipping behavior?"
     ]
    },
    {
     "cell_type": "markdown",
     "metadata": {
      "slideshow": {
       "slide_type": "slide"
      }
     },
     "source": [
      "## Material to be covered\n",
      "\n",
      "- Data Frames\n",
      "- Investigating Objects\n",
      "- Basic Summary Statistics\n",
      "- First Plots"
     ]
    },
    {
     "cell_type": "markdown",
     "metadata": {
      "slideshow": {
       "slide_type": "slide"
      }
     },
     "source": [
      "## Outline\n",
      "\n",
      "- Getting Started & Setup\n",
      "- R basics (refresher)\n",
      "    - Syntax\n",
      "    - Examining Objects\n",
      "    - Extracting Parts\n",
      "- Basic Graphics\n",
      "    - Scatterplots\n",
      "    - Histograms\n",
      "    - Boxplots"
     ]
    },
    {
     "cell_type": "markdown",
     "metadata": {
      "slideshow": {
       "slide_type": "slide"
      }
     },
     "source": [
      "## Install R\n",
      "\n",
      "- On your own machine:\n",
      "    - Go to http://www.r-project.org/\n",
      "    - From CRAN, pick download site (ISU might be good)\n",
      "    - Download from base:\n",
      "        - Download R 3.1.1\n",
      "        - Run the installation script\n",
      "        - Download RStudio from http://www.rtudio.com\n",
      "- On a lab machine:\n",
      "    - Start RStudio by double-clicking the icon\n",
      "\n",
      "<img src=\"http://www.rstudio.com/wp-content/uploads/2014/06/RStudio-Ball.png\" alt=\"RStudio\" style=\"width: 100px;\"/>"
     ]
    },
    {
     "cell_type": "markdown",
     "metadata": {
      "slideshow": {
       "slide_type": "slide"
      }
     },
     "source": [
      "## The R Language\n",
      "\n",
      "- Learning a new language: grammar, vocabulary\n",
      "- Loading, examining, summarizing data\n",
      "- Creating data\n",
      "- Getting help\n",
      "- Miscellaneous useful stuff"
     ]
    },
    {
     "cell_type": "markdown",
     "metadata": {
      "slideshow": {
       "slide_type": "slide"
      }
     },
     "source": [
      "## Learning a new language is hard!\n",
      "\n",
      "\n",
      "<img src=\"http://images.medicaldaily.com/sites/medicaldaily.com/files/styles/large/public/2014/07/22/language.jpg?itok=lkJYzPc1\" style=\"width: 400px;\"/>"
     ]
    },
    {
     "cell_type": "markdown",
     "metadata": {
      "slideshow": {
       "slide_type": "slide"
      }
     },
     "source": [
      "## Learning a language\n",
      "\n",
      "- Grammar / Syntax\n",
      "- Vocabulary\n",
      "- \"Thinking in that language\""
     ]
    },
    {
     "cell_type": "markdown",
     "metadata": {
      "slideshow": {
       "slide_type": "slide"
      }
     },
     "source": [
      "## Examples\n",
      "\n",
      "| Math                     | R                    |\n",
      "|--------------------------|:--------------------:|\n",
      "| $x = \\frac{2}{3}$        |  `x <- 2 / 3`        |\n",
      "| $\\sqrt{x}$               |   `sqrt(x)`          |\n",
      "| $a = 2(x + 3)^2$         | `a <- 2 * (x + 3)^2` |\n",
      "| $y = (1 2 3 5)^T$        | `y <- c(1, 2, 3, 5)` |\n",
      "| $y_1$                    | `y[1]`               |\n",
      "| $\\sum_{i=1}^n y$         | `sum(y)`             |\n",
      "| $2y$                     | `2*y`                |\n",
      "| $f(y, 2) = 2y$           | `f <- function(x, y) return(x*y); f(y, 2)` |\n"
     ]
    },
    {
     "cell_type": "markdown",
     "metadata": {
      "slideshow": {
       "slide_type": "slide"
      }
     },
     "source": [
      "## Your Turn\n",
      "\n",
      "- $x = (4 1 3 9)^T$\n",
      "- $y = (1 2 3 5)^T$ (from examples on previous slide)\n",
      "- $d = \\sqrt{\\sum_{i=1}^n (x_i - y_i)^2}$\n",
      "- $2(y_1 + x_1)$\n",
      "- Advanced nut to crack: Assume y is a variable with values 1,2,3 standing for 'low', 'medium', and 'high'. Convert y from numbers to text:  \n",
      "`y <- c(1, 2, 3, 2, 1, 2, 2, 3, 2, 2, 2, 1, 1, 3, 2, 1)`"
     ]
    },
    {
     "cell_type": "markdown",
     "metadata": {
      "slideshow": {
       "slide_type": "slide"
      }
     },
     "source": [
      "## Vocabulary\n",
      "\n",
      "- What verbs (=functions) do you need to know?\n",
      "    - Loading data\n",
      "    - Accessing parts of things\n",
      "    - Statistical summaries\n",
      "    - ..."
     ]
    },
    {
     "cell_type": "markdown",
     "metadata": {
      "slideshow": {
       "slide_type": "slide"
      }
     },
     "source": [
      "## R Reference Card\n",
      "\n",
      "- Download the R Reference Card from:  \n",
      "http:///cran.r-project.org/doc/contrib/Short-refcard.pdf\n",
      "- Open/Print so that you can glance at it while working"
     ]
    },
    {
     "cell_type": "markdown",
     "metadata": {
      "slideshow": {
       "slide_type": "slide"
      }
     },
     "source": [
      "## Setting up\n",
      "\n",
      "- Cut and paste lines of code from this notebook into the R interpreter window\n",
      "- Run directly from this notebook by pressing Ctrl + Enter"
     ]
    },
    {
     "cell_type": "code",
     "collapsed": false,
     "input": [
      "## Read the data\n",
      "tips <- read.csv(\"http://www.ggobi.org/book/data/tips.csv\")"
     ],
     "language": "python",
     "metadata": {
      "slideshow": {
       "slide_type": "slide"
      }
     },
     "outputs": [],
     "prompt_number": 2
    },
    {
     "cell_type": "markdown",
     "metadata": {
      "slideshow": {
       "slide_type": "slide"
      }
     },
     "source": [
      "## Navigating the R interpreter window\n",
      "\n",
      "- Up/down arrow keys to retrieve previous lines\n",
      "- Left/right arrow keys to move cursor along line\n",
      "- Mouse click to set cursor position\n",
      "- Delete to remove and re-type parts of command"
     ]
    },
    {
     "cell_type": "code",
     "collapsed": false,
     "input": [
      "## Getting Out\n",
      "# q()"
     ],
     "language": "python",
     "metadata": {
      "slideshow": {
       "slide_type": "slide"
      }
     },
     "outputs": [],
     "prompt_number": 3
    },
    {
     "cell_type": "code",
     "collapsed": false,
     "input": [
      "## Examine the data\n",
      "\n",
      "# first few values\n",
      "head(tips)"
     ],
     "language": "python",
     "metadata": {
      "slideshow": {
       "slide_type": "slide"
      }
     },
     "outputs": [
      {
       "metadata": {},
       "output_type": "pyout",
       "prompt_number": 4,
       "text": [
        "  obs totbill  tip sex smoker day  time size\n",
        "1   1   16.99 1.01   F     No Sun Night    2\n",
        "2   2   10.34 1.66   M     No Sun Night    3\n",
        "3   3   21.01 3.50   M     No Sun Night    3\n",
        "4   4   23.68 3.31   M     No Sun Night    2\n",
        "5   5   24.59 3.61   F     No Sun Night    4\n",
        "6   6   25.29 4.71   M     No Sun Night    4"
       ]
      }
     ],
     "prompt_number": 4
    },
    {
     "cell_type": "code",
     "collapsed": false,
     "input": [
      "# structure of object\n",
      "str(tips)"
     ],
     "language": "python",
     "metadata": {
      "slideshow": {
       "slide_type": "slide"
      }
     },
     "outputs": [
      {
       "output_type": "stream",
       "stream": "stdout",
       "text": [
        "'data.frame':\t244 obs. of  8 variables:\n",
        " $ obs    : int  1 2 3 4 5 6 7 8 9 10 ...\n",
        " $ totbill: num  17 10.3 21 23.7 24.6 ...\n",
        " $ tip    : num  1.01 1.66 3.5 3.31 3.61 4.71 2 3.12 1.96 3.23 ...\n",
        " $ sex    : Factor w/ 2 levels \"F\",\"M\": 1 2 2 2 1 2 2 2 2 2 ...\n",
        " $ smoker : Factor w/ 2 levels \"No\",\"Yes\": 1 1 1 1 1 1 1 1 1 1 ...\n",
        " $ day    : Factor w/ 4 levels \"Fri\",\"Sat\",\"Sun\",..: 3 3 3 3 3 3 3 3 3 3 ...\n",
        " $ time   : Factor w/ 2 levels \"Day\",\"Night\": 2 2 2 2 2 2 2 2 2 2 ...\n",
        " $ size   : int  2 3 3 2 4 4 2 4 2 2 ...\n"
       ]
      }
     ],
     "prompt_number": 5
    },
    {
     "cell_type": "code",
     "collapsed": false,
     "input": [
      "# dimension of the object\n",
      "dim(tips)"
     ],
     "language": "python",
     "metadata": {
      "slideshow": {
       "slide_type": "slide"
      }
     },
     "outputs": [
      {
       "metadata": {},
       "output_type": "pyout",
       "prompt_number": 6,
       "text": [
        "[1] 244   8"
       ]
      }
     ],
     "prompt_number": 6
    },
    {
     "cell_type": "code",
     "collapsed": false,
     "input": [
      "# summary of the object\n",
      "summary(tips)"
     ],
     "language": "python",
     "metadata": {
      "slideshow": {
       "slide_type": "slide"
      }
     },
     "outputs": [
      {
       "metadata": {},
       "output_type": "pyout",
       "prompt_number": 7,
       "text": [
        "      obs            totbill           tip         sex     smoker     day    \n",
        " Min.   :  1.00   Min.   : 3.07   Min.   : 1.000   F: 87   No :151   Fri:19  \n",
        " 1st Qu.: 61.75   1st Qu.:13.35   1st Qu.: 2.000   M:157   Yes: 93   Sat:87  \n",
        " Median :122.50   Median :17.80   Median : 2.900                     Sun:76  \n",
        " Mean   :122.50   Mean   :19.79   Mean   : 2.998                     Thu:62  \n",
        " 3rd Qu.:183.25   3rd Qu.:24.13   3rd Qu.: 3.562                             \n",
        " Max.   :244.00   Max.   :50.81   Max.   :10.000                             \n",
        "    time          size     \n",
        " Day  : 68   Min.   :1.00  \n",
        " Night:176   1st Qu.:2.00  \n",
        "             Median :2.00  \n",
        "             Mean   :2.57  \n",
        "             3rd Qu.:3.00  \n",
        "             Max.   :6.00  "
       ]
      }
     ],
     "prompt_number": 7
    },
    {
     "cell_type": "code",
     "collapsed": false,
     "input": [
      "## Extracting Parts\n",
      "\n",
      "tips$sex"
     ],
     "language": "python",
     "metadata": {
      "slideshow": {
       "slide_type": "slide"
      }
     },
     "outputs": [
      {
       "metadata": {},
       "output_type": "pyout",
       "prompt_number": 8,
       "text": [
        "  [1] F M M M F M M M M M M F M M F M F M F M M F F M M M M M M F M M F F M M M\n",
        " [38] F M M M M M M M M M M M M M F F M M M M F M M M M M M M M F F M M M F F F\n",
        " [75] F M M M M M M M F M M F M M M M M M F F F M M M M M F F F F F M M M M F M\n",
        "[112] F M M F F M F F F M F M M F F M F F M M F F F F F F F M F F M M F F F F F\n",
        "[149] M M M M M M M F M F F M M M F M F M M M F F M M M M M M M M F M M M M M M\n",
        "[186] M F M F M M F M M M M M F F M M F F F M F M M M F M M M F F F M M M F M F\n",
        "[223] M F M F F M M F M M M M M M M M F M F M M F\n",
        "Levels: F M"
       ]
      }
     ],
     "prompt_number": 8
    },
    {
     "cell_type": "code",
     "collapsed": false,
     "input": [
      "tips[,c(\"sex\", \"smoker\")]"
     ],
     "language": "python",
     "metadata": {
      "slideshow": {
       "slide_type": "slide"
      }
     },
     "outputs": [
      {
       "metadata": {},
       "output_type": "pyout",
       "prompt_number": 9,
       "text": [
        "    sex smoker\n",
        "1     F     No\n",
        "2     M     No\n",
        "3     M     No\n",
        "4     M     No\n",
        "5     F     No\n",
        "6     M     No\n",
        "7     M     No\n",
        "8     M     No\n",
        "9     M     No\n",
        "10    M     No\n",
        "11    M     No\n",
        "12    F     No\n",
        "13    M     No\n",
        "14    M     No\n",
        "15    F     No\n",
        "16    M     No\n",
        "17    F     No\n",
        "18    M     No\n",
        "19    F     No\n",
        "20    M     No\n",
        "21    M     No\n",
        "22    F     No\n",
        "23    F     No\n",
        "24    M     No\n",
        "25    M     No\n",
        "26    M     No\n",
        "27    M     No\n",
        "28    M     No\n",
        "29    M     No\n",
        "30    F     No\n",
        "31    M     No\n",
        "32    M     No\n",
        "33    F     No\n",
        "34    F     No\n",
        "35    M     No\n",
        "36    M     No\n",
        "37    M     No\n",
        "38    F     No\n",
        "39    M     No\n",
        "40    M     No\n",
        "41    M     No\n",
        "42    M     No\n",
        "43    M     No\n",
        "44    M     No\n",
        "45    M     No\n",
        "46    M     No\n",
        "47    M     No\n",
        "48    M     No\n",
        "49    M     No\n",
        "50    M     No\n",
        "51    M     No\n",
        "52    F     No\n",
        "53    F     No\n",
        "54    M     No\n",
        "55    M     No\n",
        "56    M     No\n",
        "57    M    Yes\n",
        "58    F     No\n",
        "59    M    Yes\n",
        "60    M     No\n",
        "61    M    Yes\n",
        "62    M    Yes\n",
        "63    M    Yes\n",
        "64    M    Yes\n",
        "65    M     No\n",
        "66    M     No\n",
        "67    F     No\n",
        "68    F    Yes\n",
        "69    M     No\n",
        "70    M    Yes\n",
        "71    M     No\n",
        "72    F     No\n",
        "73    F    Yes\n",
        "74    F    Yes\n",
        "75    F     No\n",
        "76    M     No\n",
        "77    M    Yes\n",
        "78    M     No\n",
        "79    M     No\n",
        "80    M     No\n",
        "81    M    Yes\n",
        "82    M     No\n",
        "83    F     No\n",
        "84    M    Yes\n",
        "85    M     No\n",
        "86    F     No\n",
        "87    M     No\n",
        "88    M     No\n",
        "89    M     No\n",
        "90    M     No\n",
        "91    M    Yes\n",
        "92    M     No\n",
        "93    F    Yes\n",
        "94    F    Yes\n",
        "95    F     No\n",
        "96    M    Yes\n",
        "97    M    Yes\n",
        "98    M    Yes\n",
        "99    M    Yes\n",
        "100   M     No\n",
        "101   F    Yes\n",
        "102   F    Yes\n",
        "103   F    Yes\n",
        "104   F    Yes\n",
        "105   F     No\n",
        "106   M    Yes\n",
        "107   M    Yes\n",
        "108   M    Yes\n",
        "109   M     No\n",
        "110   F    Yes\n",
        "111   M     No\n",
        "112   F     No\n",
        "113   M     No\n",
        "114   M     No\n",
        "115   F     No\n",
        "116   F     No\n",
        "117   M     No\n",
        "118   F     No\n",
        "119   F     No\n",
        "120   F     No\n",
        "121   M     No\n",
        "122   F     No\n",
        "123   M     No\n",
        "124   M     No\n",
        "125   F     No\n",
        "126   F     No\n",
        "127   M     No\n",
        "128   F     No\n",
        "129   F     No\n",
        "130   M     No\n",
        "131   M     No\n",
        "132   F     No\n",
        "133   F     No\n",
        "134   F     No\n",
        "135   F     No\n",
        "136   F     No\n",
        "137   F     No\n",
        "138   F     No\n",
        "139   M    Yes\n",
        "140   F     No\n",
        "141   F     No\n",
        "142   M     No\n",
        "143   M     No\n",
        "144   F     No\n",
        "145   F     No\n",
        "146   F     No\n",
        "147   F     No\n",
        "148   F     No\n",
        "149   M     No\n",
        "150   M     No\n",
        "151   M     No\n",
        "152   M     No\n",
        "153   M     No\n",
        "154   M     No\n",
        "155   M     No\n",
        "156   F     No\n",
        "157   M     No\n",
        "158   F     No\n",
        "159   F     No\n",
        "160   M     No\n",
        "161   M     No\n",
        "162   M     No\n",
        "163   F     No\n",
        "164   M     No\n",
        "165   F    Yes\n",
        "166   M     No\n",
        "167   M     No\n",
        "168   M     No\n",
        "169   F    Yes\n",
        "170   F    Yes\n",
        "171   M    Yes\n",
        "172   M    Yes\n",
        "173   M    Yes\n",
        "174   M    Yes\n",
        "175   M    Yes\n",
        "176   M    Yes\n",
        "177   M    Yes\n",
        "178   M    Yes\n",
        "179   F    Yes\n",
        "180   M    Yes\n",
        "181   M    Yes\n",
        "182   M    Yes\n",
        "183   M    Yes\n",
        "184   M    Yes\n",
        "185   M    Yes\n",
        "186   M     No\n",
        "187   F    Yes\n",
        "188   M    Yes\n",
        "189   F    Yes\n",
        "190   M    Yes\n",
        "191   M    Yes\n",
        "192   F    Yes\n",
        "193   M    Yes\n",
        "194   M    Yes\n",
        "195   M    Yes\n",
        "196   M     No\n",
        "197   M    Yes\n",
        "198   F    Yes\n",
        "199   F    Yes\n",
        "200   M    Yes\n",
        "201   M    Yes\n",
        "202   F    Yes\n",
        "203   F    Yes\n",
        "204   F    Yes\n",
        "205   M    Yes\n",
        "206   F    Yes\n",
        "207   M    Yes\n",
        "208   M    Yes\n",
        "209   M    Yes\n",
        "210   F    Yes\n",
        "211   M    Yes\n",
        "212   M    Yes\n",
        "213   M     No\n",
        "214   F    Yes\n",
        "215   F    Yes\n",
        "216   F    Yes\n",
        "217   M    Yes\n",
        "218   M    Yes\n",
        "219   M    Yes\n",
        "220   F    Yes\n",
        "221   M    Yes\n",
        "222   F    Yes\n",
        "223   M    Yes\n",
        "224   F     No\n",
        "225   M    Yes\n",
        "226   F    Yes\n",
        "227   F    Yes\n",
        "228   M     No\n",
        "229   M     No\n",
        "230   F    Yes\n",
        "231   M    Yes\n",
        "232   M    Yes\n",
        "233   M     No\n",
        "234   M     No\n",
        "235   M    Yes\n",
        "236   M     No\n",
        "237   M    Yes\n",
        "238   M    Yes\n",
        "239   F     No\n",
        "240   M     No\n",
        "241   F    Yes\n",
        "242   M    Yes\n",
        "243   M     No\n",
        "244   F     No"
       ]
      }
     ],
     "prompt_number": 9
    },
    {
     "cell_type": "code",
     "collapsed": false,
     "input": [
      "tips[1:10,]\t\t# compare to head(tips)"
     ],
     "language": "python",
     "metadata": {
      "slideshow": {
       "slide_type": "slide"
      }
     },
     "outputs": [
      {
       "metadata": {},
       "output_type": "pyout",
       "prompt_number": 10,
       "text": [
        "   obs totbill  tip sex smoker day  time size\n",
        "1    1   16.99 1.01   F     No Sun Night    2\n",
        "2    2   10.34 1.66   M     No Sun Night    3\n",
        "3    3   21.01 3.50   M     No Sun Night    3\n",
        "4    4   23.68 3.31   M     No Sun Night    2\n",
        "5    5   24.59 3.61   F     No Sun Night    4\n",
        "6    6   25.29 4.71   M     No Sun Night    4\n",
        "7    7    8.77 2.00   M     No Sun Night    2\n",
        "8    8   26.88 3.12   M     No Sun Night    4\n",
        "9    9   15.04 1.96   M     No Sun Night    2\n",
        "10  10   14.78 3.23   M     No Sun Night    2"
       ]
      }
     ],
     "prompt_number": 10
    },
    {
     "cell_type": "code",
     "collapsed": false,
     "input": [
      "tips[1:10, c(\"tip\", \"day\")]"
     ],
     "language": "python",
     "metadata": {
      "slideshow": {
       "slide_type": "slide"
      }
     },
     "outputs": [
      {
       "metadata": {},
       "output_type": "pyout",
       "prompt_number": 11,
       "text": [
        "    tip day\n",
        "1  1.01 Sun\n",
        "2  1.66 Sun\n",
        "3  3.50 Sun\n",
        "4  3.31 Sun\n",
        "5  3.61 Sun\n",
        "6  4.71 Sun\n",
        "7  2.00 Sun\n",
        "8  3.12 Sun\n",
        "9  1.96 Sun\n",
        "10 3.23 Sun"
       ]
      }
     ],
     "prompt_number": 11
    },
    {
     "cell_type": "code",
     "collapsed": false,
     "input": [
      "tips$tip[1:10]"
     ],
     "language": "python",
     "metadata": {
      "slideshow": {
       "slide_type": "slide"
      }
     },
     "outputs": [
      {
       "metadata": {},
       "output_type": "pyout",
       "prompt_number": 12,
       "text": [
        " [1] 1.01 1.66 3.50 3.31 3.61 4.71 2.00 3.12 1.96 3.23"
       ]
      }
     ],
     "prompt_number": 12
    },
    {
     "cell_type": "code",
     "collapsed": false,
     "input": [
      "## Graphical Overviews\n",
      "\n",
      "# Install and load ggplot2\n",
      "install.packages(\"ggplot2\", repos = \"http://cran.rstudio.com\")\n",
      "library(ggplot2)"
     ],
     "language": "python",
     "metadata": {
      "slideshow": {
       "slide_type": "slide"
      }
     },
     "outputs": [
      {
       "output_type": "stream",
       "stream": "stderr",
       "text": [
        "simpleMessage in message(sprintf(ngettext(length(pkgs), \"Installing package into %s\\n(as %s is unspecified)\", : Installing package into \u2018/home/erichare/R/x86_64-pc-linux-gnu-library/3.1\u2019\n",
        "(as \u2018lib\u2019 is unspecified)\n",
        "\n"
       ]
      },
      {
       "output_type": "stream",
       "stream": "stdout",
       "text": [
        "\n",
        "The downloaded source packages are in\n",
        "\t\u2018/tmp/RtmpVx6i1r/downloaded_packages\u2019\n"
       ]
      }
     ],
     "prompt_number": 13
    },
    {
     "cell_type": "code",
     "collapsed": false,
     "input": [
      "qplot(totbill, tip, geom=\"point\", data=tips)\n",
      "# from this plot we can see that our initial assumption of a positive relationship between total bill and tip is justified, since\n",
      "# tips increase as total bill size increases.\n",
      "# Surprisingly(?) the correlation is not very strong: there are a lot of observations (lower right side) where the tips are substantially lower \n",
      "# than what the total bill might make us expect. \n",
      "# On the other side, there is one exceptional observation with a tip of close to 10 dollars for an overal total bill of 5"
     ],
     "language": "python",
     "metadata": {
      "slideshow": {
       "slide_type": "slide"
      }
     },
     "outputs": [
      {
       "metadata": {},
       "output_type": "pyout",
       "prompt_number": 14,
       "text": []
      },
      {
       "metadata": {},
       "output_type": "display_data",
       "png": "[encoded data removed]"
      }
     ],
     "prompt_number": 14
    },
    {
     "cell_type": "code",
     "collapsed": false,
     "input": [
      "qplot(totbill, tip, geom=\"point\", data=tips) + geom_smooth(method=\"lm\")"
     ],
     "language": "python",
     "metadata": {
      "slideshow": {
       "slide_type": "slide"
      }
     },
     "outputs": [
      {
       "metadata": {},
       "output_type": "pyout",
       "prompt_number": 15,
       "text": []
      },
      {
       "metadata": {},
       "output_type": "display_data",
       "png": "[encoded data removed]"
      }
     ],
     "prompt_number": 15
    },
    {
     "cell_type": "code",
     "collapsed": false,
     "input": [
      "# one dimensional\n",
      "qplot(tip, geom=\"histogram\", data=tips)"
     ],
     "language": "python",
     "metadata": {
      "slideshow": {
       "slide_type": "slide"
      }
     },
     "outputs": [
      {
       "output_type": "stream",
       "stream": "stderr",
       "text": [
        "simpleMessage in message(\"stat_bin: binwidth defaulted to range/30. Use 'binwidth = x' to adjust this.\"): stat_bin: binwidth defaulted to range/30. Use 'binwidth = x' to adjust this.\n",
        "\n"
       ]
      },
      {
       "metadata": {},
       "output_type": "pyout",
       "prompt_number": 16,
       "text": []
      },
      {
       "metadata": {},
       "output_type": "display_data",
       "png": "[encoded data removed]"
      }
     ],
     "prompt_number": 16
    },
    {
     "cell_type": "code",
     "collapsed": false,
     "input": [
      "qplot(tip, geom=\"histogram\", binwidth=10, data=tips)"
     ],
     "language": "python",
     "metadata": {
      "slideshow": {
       "slide_type": "slide"
      }
     },
     "outputs": [
      {
       "metadata": {},
       "output_type": "pyout",
       "prompt_number": 17,
       "text": []
      },
      {
       "metadata": {},
       "output_type": "display_data",
       "png": "[encoded data removed]"
      }
     ],
     "prompt_number": 17
    },
    {
     "cell_type": "code",
     "collapsed": false,
     "input": [
      "qplot(tip, geom=\"histogram\", binwidth=5, data=tips)"
     ],
     "language": "python",
     "metadata": {
      "slideshow": {
       "slide_type": "slide"
      }
     },
     "outputs": [
      {
       "metadata": {},
       "output_type": "pyout",
       "prompt_number": 18,
       "text": []
      },
      {
       "metadata": {},
       "output_type": "display_data",
       "png": "[encoded data removed]"
      }
     ],
     "prompt_number": 18
    },
    {
     "cell_type": "code",
     "collapsed": false,
     "input": [
      "qplot(tip, geom=\"histogram\", binwidth=2, data=tips)"
     ],
     "language": "python",
     "metadata": {
      "slideshow": {
       "slide_type": "slide"
      }
     },
     "outputs": [
      {
       "metadata": {},
       "output_type": "pyout",
       "prompt_number": 19,
       "text": []
      },
      {
       "metadata": {},
       "output_type": "display_data",
       "png": "[encoded data removed]"
      }
     ],
     "prompt_number": 19
    },
    {
     "cell_type": "code",
     "collapsed": false,
     "input": [
      "# make new variable\n",
      "tips$tipperc <- tips$tip/tips$totbill*100\n",
      "\n",
      "# boxplots of tiprate by smoker, sex and the interaction\n",
      "qplot(sex, tipperc, geom=\"boxplot\", data=tips)"
     ],
     "language": "python",
     "metadata": {
      "slideshow": {
       "slide_type": "slide"
      }
     },
     "outputs": [
      {
       "metadata": {},
       "output_type": "pyout",
       "prompt_number": 20,
       "text": []
      },
      {
       "metadata": {},
       "output_type": "display_data",
       "png": "[encoded data removed]"
      }
     ],
     "prompt_number": 20
    },
    {
     "cell_type": "code",
     "collapsed": false,
     "input": [
      "qplot(smoker, tipperc, geom=\"boxplot\", data=tips)"
     ],
     "language": "python",
     "metadata": {
      "slideshow": {
       "slide_type": "slide"
      }
     },
     "outputs": [
      {
       "metadata": {},
       "output_type": "pyout",
       "prompt_number": 21,
       "text": []
      },
      {
       "metadata": {},
       "output_type": "display_data",
       "png": "[encoded data removed]"
      }
     ],
     "prompt_number": 21
    },
    {
     "cell_type": "code",
     "collapsed": false,
     "input": [
      "qplot(sex:smoker, tipperc, geom=\"boxplot\", data=tips)"
     ],
     "language": "python",
     "metadata": {
      "slideshow": {
       "slide_type": "slide"
      }
     },
     "outputs": [
      {
       "metadata": {},
       "output_type": "pyout",
       "prompt_number": 22,
       "text": []
      },
      {
       "metadata": {},
       "output_type": "display_data",
       "png": "[encoded data removed]"
      }
     ],
     "prompt_number": 22
    },
    {
     "cell_type": "code",
     "collapsed": false,
     "input": [
      "# scatterplots, by smoker and sex\n",
      "qplot(totbill, tip, geom=\"point\", facets=smoker~sex, data=tips) + geom_smooth(method=\"lm\")"
     ],
     "language": "python",
     "metadata": {
      "slideshow": {
       "slide_type": "slide"
      }
     },
     "outputs": [
      {
       "metadata": {},
       "output_type": "pyout",
       "prompt_number": 23,
       "text": []
      },
      {
       "metadata": {},
       "output_type": "display_data",
       "png": "[encoded data removed]"
      }
     ],
     "prompt_number": 23
    },
    {
     "cell_type": "code",
     "collapsed": false,
     "input": [
      "# do tips decrease with increasing party size?\n",
      "qplot(size, tipperc, geom=\"point\", facets=smoker~sex, data=tips) + geom_smooth(method=\"lm\")"
     ],
     "language": "python",
     "metadata": {
      "slideshow": {
       "slide_type": "slide"
      }
     },
     "outputs": [
      {
       "metadata": {},
       "output_type": "pyout",
       "prompt_number": 24,
       "text": []
      },
      {
       "metadata": {},
       "output_type": "display_data",
       "png": "[encoded data removed]"
      }
     ],
     "prompt_number": 24
    },
    {
     "cell_type": "markdown",
     "metadata": {
      "slideshow": {
       "slide_type": "slide"
      }
     },
     "source": [
      "## Your Turn\n",
      "\n",
      "- Can we tell whether there is evidence that people try to round total bill?\n",
      "- Which day of the week would you suggest to be the \"best\" in terms of tips? (consider both tips and tip rate)\n",
      "- Does time of day make a difference for tips? Tip rates?"
     ]
    },
    {
     "cell_type": "code",
     "collapsed": false,
     "input": [
      "# your turn results\n",
      "qplot(totbill, geom=\"histogram\", data=tips, binwidth=0.5)\n",
      "# idea: come up with binary variable: rounded overall vs not rounded"
     ],
     "language": "python",
     "metadata": {
      "slideshow": {
       "slide_type": "slide"
      }
     },
     "outputs": [
      {
       "metadata": {},
       "output_type": "pyout",
       "prompt_number": 25,
       "text": []
      },
      {
       "metadata": {},
       "output_type": "display_data",
       "png": "[encoded data removed]"
      }
     ],
     "prompt_number": 25
    },
    {
     "cell_type": "code",
     "collapsed": false,
     "input": [
      "qplot(day:sex, tip, geom=\"boxplot\", data=tips)"
     ],
     "language": "python",
     "metadata": {
      "slideshow": {
       "slide_type": "slide"
      }
     },
     "outputs": [
      {
       "metadata": {},
       "output_type": "pyout",
       "prompt_number": 27,
       "text": []
      },
      {
       "metadata": {},
       "output_type": "display_data",
       "png": "[encoded data removed]"
      }
     ],
     "prompt_number": 27
    }
   ],
   "metadata": {}
  }
 ]
}