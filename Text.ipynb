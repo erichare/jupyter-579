{
 "metadata": {
  "name": "",
  "signature": "sha256:1832d1588b314b0005a855271072317ad06045189023f0778e30b200640a63cb"
 },
 "nbformat": 3,
 "nbformat_minor": 0,
 "worksheets": [
  {
   "cells": [
    {
     "cell_type": "markdown",
     "metadata": {},
     "source": [
      "Text and Patterns\n",
      "========================================================"
     ]
    },
    {
     "cell_type": "markdown",
     "metadata": {},
     "source": [
      "Outline\n",
      "===\n",
      "\n",
      "* Character Variables\n",
      "* Control Codes\n",
      "* Patterns & Matching"
     ]
    },
    {
     "cell_type": "markdown",
     "metadata": {},
     "source": [
      "Baby Names Data\n",
      "===\n",
      "\n",
      "contains the 1000 most popular boy\u2019s and girls\u2019 baby names in the US from 1880-2011 (see <a href=\"http://www.babynamewizard.com/voyager\">http://www.babynamewizard.com/voyager</a>)"
     ]
    },
    {
     "cell_type": "code",
     "collapsed": false,
     "input": [
      "bnames <- read.csv(\"http://www.hofroe.net/stat579/babynames.csv\")\n",
      "head(bnames)"
     ],
     "language": "python",
     "metadata": {},
     "outputs": []
    },
    {
     "cell_type": "markdown",
     "metadata": {},
     "source": [
      "Your Turn\n",
      "====\n",
      "\n",
      "+ Load the baby names data: http://www.hofroe.net/stat579/babynames.csv\n",
      "\n",
      "+ find the 20 most popular names (the ones that are in the top 1000 most often).  Are you surprised?\n",
      "\n",
      "+ extend the data set to include ranking by year and gender (use ddply and the function transform)"
     ]
    },
    {
     "cell_type": "code",
     "collapsed": false,
     "input": [
      "head(sort(table(bnames$Name), decreasing=T), 20) "
     ],
     "language": "python",
     "metadata": {},
     "outputs": []
    },
    {
     "cell_type": "markdown",
     "metadata": {},
     "source": [
      "Some names are in the top 1000 more than the number of years that we have from 1880 to 2012. They must have been there for both boys and girls."
     ]
    },
    {
     "cell_type": "code",
     "collapsed": false,
     "input": [
      "library(plyr)\n",
      "bnames <- ddply(bnames, .(Year, Gender), transform, Rank=rank(-Freq))\n",
      "head(subset(bnames, (Year==2012) & (Rank < 10)))"
     ],
     "language": "python",
     "metadata": {},
     "outputs": []
    },
    {
     "cell_type": "markdown",
     "metadata": {},
     "source": [
      "Brainstorming\n",
      "====\n",
      "\n",
      "Thinking about the data, what are some of the trends that you might want to explore?  What additional variables would you need to create?  What other data sources might you want to use? \n",
      "\n",
      "Pair up and brainstorm for 2 minutes. \n"
     ]
    },
    {
     "cell_type": "markdown",
     "metadata": {},
     "source": [
      "Some Ideas\n",
      "===\n",
      "\n",
      "* length\n",
      "\n",
      "* first/last letter\n",
      "* rank\n",
      "* percent vowels/consonants\n",
      "* influential people/events (brad, angelina, barack, elizabeth,  ... )"
     ]
    },
    {
     "cell_type": "markdown",
     "metadata": {},
     "source": [
      "Some useful commands\n",
      "===\n",
      "\n",
      "* ... back to the reference card\n",
      "* <code>nchar</code>\n",
      "* <code>substring</code>\n",
      "* <code>paste</code>\n",
      "* <code>tolower, toupper</code>\n",
      "* <code>print, cat</code>\n"
     ]
    },
    {
     "cell_type": "markdown",
     "metadata": {},
     "source": [
      "Your Turn\n",
      "====\n",
      "\n",
      "* find length of each baby name\n",
      "\n",
      "* get first and last letter for each baby name (make sure to convert all names to lower cases before)\n",
      "* think about how to determine number of vowels in a name\n",
      "\n",
      "Advanced:\n",
      "\n",
      "Find graphics to answer the following questions:\n",
      "\n",
      "* Does the first/last letter change over time? - does it depend on gender?\n",
      "\n",
      "* Which names are used both for girls and boys?"
     ]
    },
    {
     "cell_type": "code",
     "collapsed": false,
     "input": [
      "bnames$length <- nchar(as.character(bnames$Name))\n",
      "bnames$Name <- tolower(as.character(bnames$Name))\n",
      "bnames$first <- with(bnames, substring(Name, 1, 1))\n",
      "bnames$last <- with(bnames, substring(Name, length, length))\n",
      "summary(bnames)"
     ],
     "language": "python",
     "metadata": {},
     "outputs": []
    },
    {
     "cell_type": "markdown",
     "metadata": {},
     "source": [
      "Patterns & Matches\n",
      "===\n",
      "\n",
      "* <code>gsub (pattern, replacement, x)</code>\n",
      "* <code>grep, regexpr, gregexpr, strsplit</code>\n"
     ]
    },
    {
     "cell_type": "code",
     "collapsed": false,
     "input": [
      "x <- sample(bnames$Name, 3); x\n",
      "\n",
      "grep('a', x)"
     ],
     "language": "python",
     "metadata": {},
     "outputs": []
    },
    {
     "cell_type": "code",
     "collapsed": false,
     "input": [
      "regexpr('a', x)"
     ],
     "language": "python",
     "metadata": {},
     "outputs": []
    },
    {
     "cell_type": "code",
     "collapsed": false,
     "input": [
      "strsplit(x, 'a')"
     ],
     "language": "python",
     "metadata": {},
     "outputs": []
    },
    {
     "cell_type": "code",
     "collapsed": false,
     "input": [
      "gsub('a', '', x)"
     ],
     "language": "python",
     "metadata": {},
     "outputs": []
    },
    {
     "cell_type": "markdown",
     "metadata": {},
     "source": [
      "Your Turn\n",
      "===\n",
      "\n",
      "* Find the  number of \u2018a\u2019, \u2018e\u2019, \u2018i\u2019, \u2018o\u2019 and \u2018u\u2019s in each name\n",
      "\n",
      "* Find percentage of vowels in name\n",
      "* Can you spot a difference in vowels between boys and girls?"
     ]
    },
    {
     "cell_type": "markdown",
     "metadata": {},
     "source": [
      "Regular Expressions\n",
      "===\n",
      "\n",
      "* 'a|e'  a or e\n",
      "* [aei]  a or e or i\n",
      "* [^aei]  neither a nor e nor i\n",
      "* ^[aei]  a, e, or i at the beginning\n",
      "* [aei]$  a, e , or i at the end\n",
      "* '.' any character \n",
      "* (pattern) defines substring for re-use - call by \\1 \\2 \\3 ...."
     ]
    },
    {
     "cell_type": "markdown",
     "metadata": {},
     "source": [
      "Repetition Quantifiers\n",
      "===\n",
      "\n",
      "* ? preceding pattern is optional (matched 0 or 1 time)\n",
      "* * preceding pattern is matched zero or more times\n",
      "* + preceding pattern is matched at least once\n",
      "* {n} preceding pattern is matched exactly n times\n",
      "* {n, } preceding pattern is matched at least n times\n",
      "* {n, m} preceding pattern is matched at least n times and up to m times"
     ]
    },
    {
     "cell_type": "markdown",
     "metadata": {},
     "source": [
      "Your Turn\n",
      "===\n",
      "\n",
      "Find one pattern that helps you to \n",
      "\n",
      "* find all names that start with \u2018Joh\u2019\n",
      "\n",
      "*  find all names of length 2 (without using nchar())\n",
      "* find all names that have a pattern of consonant-vowel-consonant-vowel-consonant-vowel-consonant ...\n",
      "* find all names that are palindromes (e.g. Anna, Hannah, Ava, ...) - is it possible to find one pattern that recognizes all palindromes?"
     ]
    },
    {
     "cell_type": "markdown",
     "metadata": {},
     "source": [
      "Advanced Patterns\n",
      "===\n",
      "\n",
      "see ?regex\n",
      "\n",
      "* [:alpha:] Any alphabetic character\n",
      "* [:lower:] Any lowercase character\n",
      "* [:upper:] Any uppercase character\n",
      "* [:digit:] Any digit\n",
      "* [:alnum:] Any alphanumeric character (alphabetic or digit)\n",
      "* [:space:] Any white space character (space, tab, vertical tab)\n",
      "* [:graph:] Any printable character, except space\n",
      "* [:print:] Any printable character, including the space\n",
      "* [:punct:] Any punctuation (i.e., a printable character that is not white space or alphanumeric)\n",
      "* [:cntrl:] Any nonprintable character\n"
     ]
    },
    {
     "cell_type": "markdown",
     "metadata": {},
     "source": [
      "Special Characters\n",
      "===\n",
      "\n",
      "* \"\\n\" newline\n",
      "* \"\\r\" carriage return\n",
      "* \"\\t\" tabulator\n",
      "* \"\\b\" \"\\\\\" backslash\n",
      "* \"\\a\" alert\n",
      "* see <code>?Quotes</code>"
     ]
    }
   ],
   "metadata": {}
  }
 ]
}